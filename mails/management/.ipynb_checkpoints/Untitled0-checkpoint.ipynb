{
 "metadata": {
  "name": ""
 },
 "nbformat": 3,
 "nbformat_minor": 0,
 "worksheets": [
  {
   "cells": [
    {
     "cell_type": "code",
     "collapsed": false,
     "input": [
      "import email\n",
      "import re\n",
      "from mails.models import Mail\n",
      "import sys\n",
      "import os\n",
      "\n",
      "os.path.abspath(sys.argv[0])"
     ],
     "language": "python",
     "metadata": {},
     "outputs": [
      {
       "metadata": {},
       "output_type": "pyout",
       "prompt_number": 3,
       "text": [
        "'/home/jonas/www/mysite/mails/management/-c'"
       ]
      }
     ],
     "prompt_number": 3
    },
    {
     "cell_type": "code",
     "collapsed": false,
     "input": [
      "fp = open('/home/jonas/Downloads/bla.eml')\n",
      "parser = email.parser.Parser()\n",
      "msg = parser.parse(fp)"
     ],
     "language": "python",
     "metadata": {},
     "outputs": [],
     "prompt_number": 8
    },
    {
     "cell_type": "code",
     "collapsed": false,
     "input": [
      "print(\"Subject: %(Subject)s\" % msg)\n",
      "print(\"From:    %(From)s\"    % msg)\n",
      "print(\"To:      %(To)s\"    % msg)\n",
      "print(\"CC:      %(CC)s\"    % msg)\n",
      "print(\"BCC:     %(BCC)s\"    % msg)\n",
      "print(\"Date:    %(Date)s\"    % msg)"
     ],
     "language": "python",
     "metadata": {},
     "outputs": [
      {
       "output_type": "stream",
       "stream": "stdout",
       "text": [
        "Subject: Erinnerung Kehrichtabfuhr\n",
        "From:    reminder@bernentsorgung.glue.ch\n",
        "To:      jonas.metzener@adfinis-sygroup.ch\n",
        "CC:      None\n",
        "BCC:     None\n",
        "Date:    Thu, 10 Oct 2013 12:01:53 +0200 (CEST)\n"
       ]
      }
     ],
     "prompt_number": 9
    },
    {
     "cell_type": "code",
     "collapsed": false,
     "input": [],
     "language": "python",
     "metadata": {},
     "outputs": []
    }
   ],
   "metadata": {}
  }
 ]
}